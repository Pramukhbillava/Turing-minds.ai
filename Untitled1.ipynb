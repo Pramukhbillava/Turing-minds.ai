{
  "nbformat": 4,
  "nbformat_minor": 0,
  "metadata": {
    "colab": {
      "provenance": [],
      "include_colab_link": true
    },
    "kernelspec": {
      "name": "python3",
      "display_name": "Python 3"
    },
    "language_info": {
      "name": "python"
    },
    "widgets": {
      "application/vnd.jupyter.widget-state+json": {
        "e9b7dd1f1fbc40f4b1b84c58606ab376": {
          "model_module": "@jupyter-widgets/controls",
          "model_name": "HBoxModel",
          "model_module_version": "1.5.0",
          "state": {
            "_dom_classes": [],
            "_model_module": "@jupyter-widgets/controls",
            "_model_module_version": "1.5.0",
            "_model_name": "HBoxModel",
            "_view_count": null,
            "_view_module": "@jupyter-widgets/controls",
            "_view_module_version": "1.5.0",
            "_view_name": "HBoxView",
            "box_style": "",
            "children": [
              "IPY_MODEL_314048d363e84c989fdc0c5e491cbdd8",
              "IPY_MODEL_e4472000b9c145909beca809a06ee0b8",
              "IPY_MODEL_473ea65ca06740cf8c6904cd01bd29cd"
            ],
            "layout": "IPY_MODEL_c4b74db2594844ad8678b35ae6c30e5f"
          }
        },
        "314048d363e84c989fdc0c5e491cbdd8": {
          "model_module": "@jupyter-widgets/controls",
          "model_name": "HTMLModel",
          "model_module_version": "1.5.0",
          "state": {
            "_dom_classes": [],
            "_model_module": "@jupyter-widgets/controls",
            "_model_module_version": "1.5.0",
            "_model_name": "HTMLModel",
            "_view_count": null,
            "_view_module": "@jupyter-widgets/controls",
            "_view_module_version": "1.5.0",
            "_view_name": "HTMLView",
            "description": "",
            "description_tooltip": null,
            "layout": "IPY_MODEL_666a630efa974812a2d9d6d7691ed156",
            "placeholder": "​",
            "style": "IPY_MODEL_cdfa464dcfe64f0190c138e712b6df98",
            "value": "Done! Use &#x27;show&#x27; commands to display/save.   "
          }
        },
        "e4472000b9c145909beca809a06ee0b8": {
          "model_module": "@jupyter-widgets/controls",
          "model_name": "FloatProgressModel",
          "model_module_version": "1.5.0",
          "state": {
            "_dom_classes": [],
            "_model_module": "@jupyter-widgets/controls",
            "_model_module_version": "1.5.0",
            "_model_name": "FloatProgressModel",
            "_view_count": null,
            "_view_module": "@jupyter-widgets/controls",
            "_view_module_version": "1.5.0",
            "_view_name": "ProgressView",
            "bar_style": "success",
            "description": "",
            "description_tooltip": null,
            "layout": "IPY_MODEL_d28050c9eb654bf4a99e7f2fe1536539",
            "max": 1,
            "min": 0,
            "orientation": "horizontal",
            "style": "IPY_MODEL_bff36e99bcdb45d380669d0dcdb13252",
            "value": 1
          }
        },
        "473ea65ca06740cf8c6904cd01bd29cd": {
          "model_module": "@jupyter-widgets/controls",
          "model_name": "HTMLModel",
          "model_module_version": "1.5.0",
          "state": {
            "_dom_classes": [],
            "_model_module": "@jupyter-widgets/controls",
            "_model_module_version": "1.5.0",
            "_model_name": "HTMLModel",
            "_view_count": null,
            "_view_module": "@jupyter-widgets/controls",
            "_view_module_version": "1.5.0",
            "_view_name": "HTMLView",
            "description": "",
            "description_tooltip": null,
            "layout": "IPY_MODEL_6bc2e43d07684440bd7f40addbd55ccf",
            "placeholder": "​",
            "style": "IPY_MODEL_bc14a105db854868b15aa0913d4f1669",
            "value": " [100%]   00:01 -&gt; (00:00 left)"
          }
        },
        "c4b74db2594844ad8678b35ae6c30e5f": {
          "model_module": "@jupyter-widgets/base",
          "model_name": "LayoutModel",
          "model_module_version": "1.2.0",
          "state": {
            "_model_module": "@jupyter-widgets/base",
            "_model_module_version": "1.2.0",
            "_model_name": "LayoutModel",
            "_view_count": null,
            "_view_module": "@jupyter-widgets/base",
            "_view_module_version": "1.2.0",
            "_view_name": "LayoutView",
            "align_content": null,
            "align_items": null,
            "align_self": null,
            "border": null,
            "bottom": null,
            "display": "inline-flex",
            "flex": null,
            "flex_flow": "row wrap",
            "grid_area": null,
            "grid_auto_columns": null,
            "grid_auto_flow": null,
            "grid_auto_rows": null,
            "grid_column": null,
            "grid_gap": null,
            "grid_row": null,
            "grid_template_areas": null,
            "grid_template_columns": null,
            "grid_template_rows": null,
            "height": null,
            "justify_content": null,
            "justify_items": null,
            "left": null,
            "margin": null,
            "max_height": null,
            "max_width": null,
            "min_height": null,
            "min_width": null,
            "object_fit": null,
            "object_position": null,
            "order": null,
            "overflow": null,
            "overflow_x": null,
            "overflow_y": null,
            "padding": null,
            "right": null,
            "top": null,
            "visibility": null,
            "width": "100%"
          }
        },
        "666a630efa974812a2d9d6d7691ed156": {
          "model_module": "@jupyter-widgets/base",
          "model_name": "LayoutModel",
          "model_module_version": "1.2.0",
          "state": {
            "_model_module": "@jupyter-widgets/base",
            "_model_module_version": "1.2.0",
            "_model_name": "LayoutModel",
            "_view_count": null,
            "_view_module": "@jupyter-widgets/base",
            "_view_module_version": "1.2.0",
            "_view_name": "LayoutView",
            "align_content": null,
            "align_items": null,
            "align_self": null,
            "border": null,
            "bottom": null,
            "display": null,
            "flex": null,
            "flex_flow": null,
            "grid_area": null,
            "grid_auto_columns": null,
            "grid_auto_flow": null,
            "grid_auto_rows": null,
            "grid_column": null,
            "grid_gap": null,
            "grid_row": null,
            "grid_template_areas": null,
            "grid_template_columns": null,
            "grid_template_rows": null,
            "height": null,
            "justify_content": null,
            "justify_items": null,
            "left": null,
            "margin": null,
            "max_height": null,
            "max_width": null,
            "min_height": null,
            "min_width": null,
            "object_fit": null,
            "object_position": null,
            "order": null,
            "overflow": null,
            "overflow_x": null,
            "overflow_y": null,
            "padding": null,
            "right": null,
            "top": null,
            "visibility": null,
            "width": null
          }
        },
        "cdfa464dcfe64f0190c138e712b6df98": {
          "model_module": "@jupyter-widgets/controls",
          "model_name": "DescriptionStyleModel",
          "model_module_version": "1.5.0",
          "state": {
            "_model_module": "@jupyter-widgets/controls",
            "_model_module_version": "1.5.0",
            "_model_name": "DescriptionStyleModel",
            "_view_count": null,
            "_view_module": "@jupyter-widgets/base",
            "_view_module_version": "1.2.0",
            "_view_name": "StyleView",
            "description_width": ""
          }
        },
        "d28050c9eb654bf4a99e7f2fe1536539": {
          "model_module": "@jupyter-widgets/base",
          "model_name": "LayoutModel",
          "model_module_version": "1.2.0",
          "state": {
            "_model_module": "@jupyter-widgets/base",
            "_model_module_version": "1.2.0",
            "_model_name": "LayoutModel",
            "_view_count": null,
            "_view_module": "@jupyter-widgets/base",
            "_view_module_version": "1.2.0",
            "_view_name": "LayoutView",
            "align_content": null,
            "align_items": null,
            "align_self": null,
            "border": null,
            "bottom": null,
            "display": null,
            "flex": "2",
            "flex_flow": null,
            "grid_area": null,
            "grid_auto_columns": null,
            "grid_auto_flow": null,
            "grid_auto_rows": null,
            "grid_column": null,
            "grid_gap": null,
            "grid_row": null,
            "grid_template_areas": null,
            "grid_template_columns": null,
            "grid_template_rows": null,
            "height": null,
            "justify_content": null,
            "justify_items": null,
            "left": null,
            "margin": null,
            "max_height": null,
            "max_width": null,
            "min_height": null,
            "min_width": null,
            "object_fit": null,
            "object_position": null,
            "order": null,
            "overflow": null,
            "overflow_x": null,
            "overflow_y": null,
            "padding": null,
            "right": null,
            "top": null,
            "visibility": null,
            "width": null
          }
        },
        "bff36e99bcdb45d380669d0dcdb13252": {
          "model_module": "@jupyter-widgets/controls",
          "model_name": "ProgressStyleModel",
          "model_module_version": "1.5.0",
          "state": {
            "_model_module": "@jupyter-widgets/controls",
            "_model_module_version": "1.5.0",
            "_model_name": "ProgressStyleModel",
            "_view_count": null,
            "_view_module": "@jupyter-widgets/base",
            "_view_module_version": "1.2.0",
            "_view_name": "StyleView",
            "bar_color": null,
            "description_width": ""
          }
        },
        "6bc2e43d07684440bd7f40addbd55ccf": {
          "model_module": "@jupyter-widgets/base",
          "model_name": "LayoutModel",
          "model_module_version": "1.2.0",
          "state": {
            "_model_module": "@jupyter-widgets/base",
            "_model_module_version": "1.2.0",
            "_model_name": "LayoutModel",
            "_view_count": null,
            "_view_module": "@jupyter-widgets/base",
            "_view_module_version": "1.2.0",
            "_view_name": "LayoutView",
            "align_content": null,
            "align_items": null,
            "align_self": null,
            "border": null,
            "bottom": null,
            "display": null,
            "flex": null,
            "flex_flow": null,
            "grid_area": null,
            "grid_auto_columns": null,
            "grid_auto_flow": null,
            "grid_auto_rows": null,
            "grid_column": null,
            "grid_gap": null,
            "grid_row": null,
            "grid_template_areas": null,
            "grid_template_columns": null,
            "grid_template_rows": null,
            "height": null,
            "justify_content": null,
            "justify_items": null,
            "left": null,
            "margin": null,
            "max_height": null,
            "max_width": null,
            "min_height": null,
            "min_width": null,
            "object_fit": null,
            "object_position": null,
            "order": null,
            "overflow": null,
            "overflow_x": null,
            "overflow_y": null,
            "padding": null,
            "right": null,
            "top": null,
            "visibility": null,
            "width": null
          }
        },
        "bc14a105db854868b15aa0913d4f1669": {
          "model_module": "@jupyter-widgets/controls",
          "model_name": "DescriptionStyleModel",
          "model_module_version": "1.5.0",
          "state": {
            "_model_module": "@jupyter-widgets/controls",
            "_model_module_version": "1.5.0",
            "_model_name": "DescriptionStyleModel",
            "_view_count": null,
            "_view_module": "@jupyter-widgets/base",
            "_view_module_version": "1.2.0",
            "_view_name": "StyleView",
            "description_width": ""
          }
        }
      }
    }
  },
  "cells": [
    {
      "cell_type": "markdown",
      "metadata": {
        "id": "view-in-github",
        "colab_type": "text"
      },
      "source": [
        "<a href=\"https://colab.research.google.com/github/Pramukhbillava/Turing-minds.ai/blob/devops-and-mlops/Untitled1.ipynb\" target=\"_parent\"><img src=\"https://colab.research.google.com/assets/colab-badge.svg\" alt=\"Open In Colab\"/></a>"
      ]
    },
    {
      "cell_type": "code",
      "execution_count": 82,
      "metadata": {
        "id": "KspDKA_KvifC"
      },
      "outputs": [],
      "source": [
        "#importing the necessary python  libraries\n",
        "import pandas as pd\n"
      ]
    },
    {
      "cell_type": "code",
      "source": [
        "#importing the zoom call dataset\n",
        "df = pd.read_csv(\"/content/ZoomDump (1).csv\")"
      ],
      "metadata": {
        "id": "aMn4lwjUv0TV"
      },
      "execution_count": 83,
      "outputs": []
    },
    {
      "cell_type": "code",
      "source": [
        "#displaying the head of the dataset and the size given is 5\n",
        "df.head(5)"
      ],
      "metadata": {
        "colab": {
          "base_uri": "https://localhost:8080/",
          "height": 330
        },
        "id": "6Jc_Yhs3v8P0",
        "outputId": "01528df3-14ec-4e30-ea78-71c49a60f13f"
      },
      "execution_count": 84,
      "outputs": [
        {
          "output_type": "execute_result",
          "data": {
            "text/plain": [
              "          Topic     Meeting ID             User Name            User Email  \\\n",
              "0  Zoom Meeting  865 9797 0282  kushal@codeyoung.com  kushal@codeyoung.com   \n",
              "1  Zoom Meeting  865 9797 0282  kushal@codeyoung.com  kushal@codeyoung.com   \n",
              "2  Zoom Meeting  865 9797 0282  kushal@codeyoung.com  kushal@codeyoung.com   \n",
              "3  Zoom Meeting  865 9797 0282  kushal@codeyoung.com  kushal@codeyoung.com   \n",
              "4  Zoom Meeting  865 9797 0282  kushal@codeyoung.com  kushal@codeyoung.com   \n",
              "\n",
              "  Department  Group Has Zoom Rooms?        Creation Time           Start Time  \\\n",
              "0        NaN    NaN              No  01/19/2023 00:16:07  01/22/2023 00:00:30   \n",
              "1        NaN    NaN              No  01/19/2023 00:16:07  01/22/2023 00:00:30   \n",
              "2        NaN    NaN              No  01/19/2023 00:16:07  01/22/2023 00:00:30   \n",
              "3        NaN    NaN              No  01/19/2023 00:16:07  01/22/2023 00:00:30   \n",
              "4        NaN    NaN              No  01/19/2023 00:16:07  01/22/2023 00:00:30   \n",
              "\n",
              "              End Time  ...  Participants  Name (Original Name) User Email.1  \\\n",
              "0  01/22/2023 00:27:51  ...             5    Gaurav Vishwakarma          NaN   \n",
              "1  01/22/2023 00:27:51  ...             5  ravikumar padmanaban          NaN   \n",
              "2  01/22/2023 00:27:51  ...             5                  Teju          NaN   \n",
              "3  01/22/2023 00:27:51  ...             5  ravikumar padmanaban          NaN   \n",
              "4  01/22/2023 00:27:51  ...             5                  Teju          NaN   \n",
              "\n",
              "             Join Time           Leave Time Duration (Minutes).1  Guest  \\\n",
              "0  01/22/2023 00:00:30  01/22/2023 00:27:51                   28    Yes   \n",
              "1  01/22/2023 00:00:38  01/22/2023 00:00:38                    0    Yes   \n",
              "2  01/22/2023 00:00:40  01/22/2023 00:02:14                    2    Yes   \n",
              "3  01/22/2023 00:02:34  01/22/2023 00:02:56                    1    Yes   \n",
              "4  01/22/2023 00:02:35  01/22/2023 00:27:51                   26    Yes   \n",
              "\n",
              "  Recording Consent In Waiting Room Unnamed: 20  \n",
              "0               Yes              No         NaN  \n",
              "1               NaN              No         NaN  \n",
              "2               NaN              No         NaN  \n",
              "3               Yes              No         NaN  \n",
              "4               NaN              No         NaN  \n",
              "\n",
              "[5 rows x 21 columns]"
            ],
            "text/html": [
              "\n",
              "  <div id=\"df-8f36258c-1b52-4082-8955-d9e9a8e2175a\">\n",
              "    <div class=\"colab-df-container\">\n",
              "      <div>\n",
              "<style scoped>\n",
              "    .dataframe tbody tr th:only-of-type {\n",
              "        vertical-align: middle;\n",
              "    }\n",
              "\n",
              "    .dataframe tbody tr th {\n",
              "        vertical-align: top;\n",
              "    }\n",
              "\n",
              "    .dataframe thead th {\n",
              "        text-align: right;\n",
              "    }\n",
              "</style>\n",
              "<table border=\"1\" class=\"dataframe\">\n",
              "  <thead>\n",
              "    <tr style=\"text-align: right;\">\n",
              "      <th></th>\n",
              "      <th>Topic</th>\n",
              "      <th>Meeting ID</th>\n",
              "      <th>User Name</th>\n",
              "      <th>User Email</th>\n",
              "      <th>Department</th>\n",
              "      <th>Group</th>\n",
              "      <th>Has Zoom Rooms?</th>\n",
              "      <th>Creation Time</th>\n",
              "      <th>Start Time</th>\n",
              "      <th>End Time</th>\n",
              "      <th>...</th>\n",
              "      <th>Participants</th>\n",
              "      <th>Name (Original Name)</th>\n",
              "      <th>User Email.1</th>\n",
              "      <th>Join Time</th>\n",
              "      <th>Leave Time</th>\n",
              "      <th>Duration (Minutes).1</th>\n",
              "      <th>Guest</th>\n",
              "      <th>Recording Consent</th>\n",
              "      <th>In Waiting Room</th>\n",
              "      <th>Unnamed: 20</th>\n",
              "    </tr>\n",
              "  </thead>\n",
              "  <tbody>\n",
              "    <tr>\n",
              "      <th>0</th>\n",
              "      <td>Zoom Meeting</td>\n",
              "      <td>865 9797 0282</td>\n",
              "      <td>kushal@codeyoung.com</td>\n",
              "      <td>kushal@codeyoung.com</td>\n",
              "      <td>NaN</td>\n",
              "      <td>NaN</td>\n",
              "      <td>No</td>\n",
              "      <td>01/19/2023 00:16:07</td>\n",
              "      <td>01/22/2023 00:00:30</td>\n",
              "      <td>01/22/2023 00:27:51</td>\n",
              "      <td>...</td>\n",
              "      <td>5</td>\n",
              "      <td>Gaurav Vishwakarma</td>\n",
              "      <td>NaN</td>\n",
              "      <td>01/22/2023 00:00:30</td>\n",
              "      <td>01/22/2023 00:27:51</td>\n",
              "      <td>28</td>\n",
              "      <td>Yes</td>\n",
              "      <td>Yes</td>\n",
              "      <td>No</td>\n",
              "      <td>NaN</td>\n",
              "    </tr>\n",
              "    <tr>\n",
              "      <th>1</th>\n",
              "      <td>Zoom Meeting</td>\n",
              "      <td>865 9797 0282</td>\n",
              "      <td>kushal@codeyoung.com</td>\n",
              "      <td>kushal@codeyoung.com</td>\n",
              "      <td>NaN</td>\n",
              "      <td>NaN</td>\n",
              "      <td>No</td>\n",
              "      <td>01/19/2023 00:16:07</td>\n",
              "      <td>01/22/2023 00:00:30</td>\n",
              "      <td>01/22/2023 00:27:51</td>\n",
              "      <td>...</td>\n",
              "      <td>5</td>\n",
              "      <td>ravikumar padmanaban</td>\n",
              "      <td>NaN</td>\n",
              "      <td>01/22/2023 00:00:38</td>\n",
              "      <td>01/22/2023 00:00:38</td>\n",
              "      <td>0</td>\n",
              "      <td>Yes</td>\n",
              "      <td>NaN</td>\n",
              "      <td>No</td>\n",
              "      <td>NaN</td>\n",
              "    </tr>\n",
              "    <tr>\n",
              "      <th>2</th>\n",
              "      <td>Zoom Meeting</td>\n",
              "      <td>865 9797 0282</td>\n",
              "      <td>kushal@codeyoung.com</td>\n",
              "      <td>kushal@codeyoung.com</td>\n",
              "      <td>NaN</td>\n",
              "      <td>NaN</td>\n",
              "      <td>No</td>\n",
              "      <td>01/19/2023 00:16:07</td>\n",
              "      <td>01/22/2023 00:00:30</td>\n",
              "      <td>01/22/2023 00:27:51</td>\n",
              "      <td>...</td>\n",
              "      <td>5</td>\n",
              "      <td>Teju</td>\n",
              "      <td>NaN</td>\n",
              "      <td>01/22/2023 00:00:40</td>\n",
              "      <td>01/22/2023 00:02:14</td>\n",
              "      <td>2</td>\n",
              "      <td>Yes</td>\n",
              "      <td>NaN</td>\n",
              "      <td>No</td>\n",
              "      <td>NaN</td>\n",
              "    </tr>\n",
              "    <tr>\n",
              "      <th>3</th>\n",
              "      <td>Zoom Meeting</td>\n",
              "      <td>865 9797 0282</td>\n",
              "      <td>kushal@codeyoung.com</td>\n",
              "      <td>kushal@codeyoung.com</td>\n",
              "      <td>NaN</td>\n",
              "      <td>NaN</td>\n",
              "      <td>No</td>\n",
              "      <td>01/19/2023 00:16:07</td>\n",
              "      <td>01/22/2023 00:00:30</td>\n",
              "      <td>01/22/2023 00:27:51</td>\n",
              "      <td>...</td>\n",
              "      <td>5</td>\n",
              "      <td>ravikumar padmanaban</td>\n",
              "      <td>NaN</td>\n",
              "      <td>01/22/2023 00:02:34</td>\n",
              "      <td>01/22/2023 00:02:56</td>\n",
              "      <td>1</td>\n",
              "      <td>Yes</td>\n",
              "      <td>Yes</td>\n",
              "      <td>No</td>\n",
              "      <td>NaN</td>\n",
              "    </tr>\n",
              "    <tr>\n",
              "      <th>4</th>\n",
              "      <td>Zoom Meeting</td>\n",
              "      <td>865 9797 0282</td>\n",
              "      <td>kushal@codeyoung.com</td>\n",
              "      <td>kushal@codeyoung.com</td>\n",
              "      <td>NaN</td>\n",
              "      <td>NaN</td>\n",
              "      <td>No</td>\n",
              "      <td>01/19/2023 00:16:07</td>\n",
              "      <td>01/22/2023 00:00:30</td>\n",
              "      <td>01/22/2023 00:27:51</td>\n",
              "      <td>...</td>\n",
              "      <td>5</td>\n",
              "      <td>Teju</td>\n",
              "      <td>NaN</td>\n",
              "      <td>01/22/2023 00:02:35</td>\n",
              "      <td>01/22/2023 00:27:51</td>\n",
              "      <td>26</td>\n",
              "      <td>Yes</td>\n",
              "      <td>NaN</td>\n",
              "      <td>No</td>\n",
              "      <td>NaN</td>\n",
              "    </tr>\n",
              "  </tbody>\n",
              "</table>\n",
              "<p>5 rows × 21 columns</p>\n",
              "</div>\n",
              "      <button class=\"colab-df-convert\" onclick=\"convertToInteractive('df-8f36258c-1b52-4082-8955-d9e9a8e2175a')\"\n",
              "              title=\"Convert this dataframe to an interactive table.\"\n",
              "              style=\"display:none;\">\n",
              "        \n",
              "  <svg xmlns=\"http://www.w3.org/2000/svg\" height=\"24px\"viewBox=\"0 0 24 24\"\n",
              "       width=\"24px\">\n",
              "    <path d=\"M0 0h24v24H0V0z\" fill=\"none\"/>\n",
              "    <path d=\"M18.56 5.44l.94 2.06.94-2.06 2.06-.94-2.06-.94-.94-2.06-.94 2.06-2.06.94zm-11 1L8.5 8.5l.94-2.06 2.06-.94-2.06-.94L8.5 2.5l-.94 2.06-2.06.94zm10 10l.94 2.06.94-2.06 2.06-.94-2.06-.94-.94-2.06-.94 2.06-2.06.94z\"/><path d=\"M17.41 7.96l-1.37-1.37c-.4-.4-.92-.59-1.43-.59-.52 0-1.04.2-1.43.59L10.3 9.45l-7.72 7.72c-.78.78-.78 2.05 0 2.83L4 21.41c.39.39.9.59 1.41.59.51 0 1.02-.2 1.41-.59l7.78-7.78 2.81-2.81c.8-.78.8-2.07 0-2.86zM5.41 20L4 18.59l7.72-7.72 1.47 1.35L5.41 20z\"/>\n",
              "  </svg>\n",
              "      </button>\n",
              "      \n",
              "  <style>\n",
              "    .colab-df-container {\n",
              "      display:flex;\n",
              "      flex-wrap:wrap;\n",
              "      gap: 12px;\n",
              "    }\n",
              "\n",
              "    .colab-df-convert {\n",
              "      background-color: #E8F0FE;\n",
              "      border: none;\n",
              "      border-radius: 50%;\n",
              "      cursor: pointer;\n",
              "      display: none;\n",
              "      fill: #1967D2;\n",
              "      height: 32px;\n",
              "      padding: 0 0 0 0;\n",
              "      width: 32px;\n",
              "    }\n",
              "\n",
              "    .colab-df-convert:hover {\n",
              "      background-color: #E2EBFA;\n",
              "      box-shadow: 0px 1px 2px rgba(60, 64, 67, 0.3), 0px 1px 3px 1px rgba(60, 64, 67, 0.15);\n",
              "      fill: #174EA6;\n",
              "    }\n",
              "\n",
              "    [theme=dark] .colab-df-convert {\n",
              "      background-color: #3B4455;\n",
              "      fill: #D2E3FC;\n",
              "    }\n",
              "\n",
              "    [theme=dark] .colab-df-convert:hover {\n",
              "      background-color: #434B5C;\n",
              "      box-shadow: 0px 1px 3px 1px rgba(0, 0, 0, 0.15);\n",
              "      filter: drop-shadow(0px 1px 2px rgba(0, 0, 0, 0.3));\n",
              "      fill: #FFFFFF;\n",
              "    }\n",
              "  </style>\n",
              "\n",
              "      <script>\n",
              "        const buttonEl =\n",
              "          document.querySelector('#df-8f36258c-1b52-4082-8955-d9e9a8e2175a button.colab-df-convert');\n",
              "        buttonEl.style.display =\n",
              "          google.colab.kernel.accessAllowed ? 'block' : 'none';\n",
              "\n",
              "        async function convertToInteractive(key) {\n",
              "          const element = document.querySelector('#df-8f36258c-1b52-4082-8955-d9e9a8e2175a');\n",
              "          const dataTable =\n",
              "            await google.colab.kernel.invokeFunction('convertToInteractive',\n",
              "                                                     [key], {});\n",
              "          if (!dataTable) return;\n",
              "\n",
              "          const docLinkHtml = 'Like what you see? Visit the ' +\n",
              "            '<a target=\"_blank\" href=https://colab.research.google.com/notebooks/data_table.ipynb>data table notebook</a>'\n",
              "            + ' to learn more about interactive tables.';\n",
              "          element.innerHTML = '';\n",
              "          dataTable['output_type'] = 'display_data';\n",
              "          await google.colab.output.renderOutput(dataTable, element);\n",
              "          const docLink = document.createElement('div');\n",
              "          docLink.innerHTML = docLinkHtml;\n",
              "          element.appendChild(docLink);\n",
              "        }\n",
              "      </script>\n",
              "    </div>\n",
              "  </div>\n",
              "  "
            ]
          },
          "metadata": {},
          "execution_count": 84
        },
        {
          "output_type": "stream",
          "name": "stdout",
          "text": [
            "Warning: Total number of columns (21) exceeds max_columns (20) limiting to first (20) columns.\n"
          ]
        }
      ]
    },
    {
      "cell_type": "code",
      "source": [
        "#displaying the meeting id for the reference purpose \n",
        "df[\"Meeting ID\"]"
      ],
      "metadata": {
        "colab": {
          "base_uri": "https://localhost:8080/"
        },
        "id": "yj8YO0HUxHkK",
        "outputId": "8286560a-58d4-4991-dda6-ffb229b71eda"
      },
      "execution_count": 85,
      "outputs": [
        {
          "output_type": "execute_result",
          "data": {
            "text/plain": [
              "0        865 9797 0282\n",
              "1        865 9797 0282\n",
              "2        865 9797 0282\n",
              "3        865 9797 0282\n",
              "4        865 9797 0282\n",
              "             ...      \n",
              "17305    876 5805 0983\n",
              "17306    844 4097 6232\n",
              "17307    844 4097 6232\n",
              "17308    862 3176 3658\n",
              "17309    862 3176 3658\n",
              "Name: Meeting ID, Length: 17310, dtype: object"
            ]
          },
          "metadata": {},
          "execution_count": 85
        }
      ]
    },
    {
      "cell_type": "code",
      "source": [
        "#checking for the na value in the dataset and summation of it \n",
        "df.isna().sum()"
      ],
      "metadata": {
        "colab": {
          "base_uri": "https://localhost:8080/"
        },
        "id": "h-dxwi53wvrJ",
        "outputId": "b5facf4d-1afc-4014-b510-a35b1ba7e0d2"
      },
      "execution_count": 86,
      "outputs": [
        {
          "output_type": "execute_result",
          "data": {
            "text/plain": [
              "Topic                       0\n",
              "Meeting ID                  0\n",
              "User Name                   0\n",
              "User Email                  0\n",
              "Department              17246\n",
              "Group                   17310\n",
              "Has Zoom Rooms?             0\n",
              "Creation Time               0\n",
              "Start Time                  0\n",
              "End Time                    0\n",
              "Duration (Minutes)          0\n",
              "Participants                0\n",
              "Name (Original Name)        0\n",
              "User Email.1            17102\n",
              "Join Time                   0\n",
              "Leave Time                  0\n",
              "Duration (Minutes).1        0\n",
              "Guest                       0\n",
              "Recording Consent        2750\n",
              "In Waiting Room             0\n",
              "Unnamed: 20             17310\n",
              "dtype: int64"
            ]
          },
          "metadata": {},
          "execution_count": 86
        }
      ]
    },
    {
      "cell_type": "code",
      "source": [
        "#displaying the unique values in the datase\n",
        "df.nunique()"
      ],
      "metadata": {
        "colab": {
          "base_uri": "https://localhost:8080/"
        },
        "id": "btDFGqcY0EGe",
        "outputId": "63c5076a-b5a3-4624-f844-17a1dcc63e81"
      },
      "execution_count": 87,
      "outputs": [
        {
          "output_type": "execute_result",
          "data": {
            "text/plain": [
              "Topic                      68\n",
              "Meeting ID               6004\n",
              "User Name                 198\n",
              "User Email                224\n",
              "Department                  1\n",
              "Group                       0\n",
              "Has Zoom Rooms?             1\n",
              "Creation Time            5989\n",
              "Start Time               5940\n",
              "End Time                 6016\n",
              "Duration (Minutes)        164\n",
              "Participants               18\n",
              "Name (Original Name)     4896\n",
              "User Email.1                3\n",
              "Join Time               16340\n",
              "Leave Time              15800\n",
              "Duration (Minutes).1      156\n",
              "Guest                       2\n",
              "Recording Consent           2\n",
              "In Waiting Room             1\n",
              "Unnamed: 20                 0\n",
              "dtype: int64"
            ]
          },
          "metadata": {},
          "execution_count": 87
        }
      ]
    },
    {
      "cell_type": "code",
      "source": [
        "#if you have a lot of meeting ids and dont want to write them manually can just use the indexing of the ids using this code \n",
        "\n",
        "#meeting_id = df.iloc[6,1]"
      ],
      "metadata": {
        "id": "NBCnJuKk0LID"
      },
      "execution_count": 88,
      "outputs": []
    },
    {
      "cell_type": "code",
      "source": [
        "#print(meeting_id)"
      ],
      "metadata": {
        "id": "OADZ3PKs0nG7"
      },
      "execution_count": 89,
      "outputs": []
    },
    {
      "cell_type": "code",
      "source": [
        "#meeting data is a variable i have named meeting_data = df[df[\"Meeting ID\"] == \"810 0250 0662\"]\n",
        "grouped_data = meeting_data.groupby(\"Name (Original Name)\")\n",
        "\n",
        "#In this code, the nunique() method is used to count the number of unique values in the \"Attendee Name\" column of the filtered data. \n",
        "#The resulting num_attendees value gives you the total number of unique attendees who participated in the specified meeting.\n",
        "grouped_data = meeting_data.groupby(\"Name (Original Name)\")\n",
        "num_attendees = grouped_data[\"Name (Original Name)\"].nunique()\n",
        "print(\"Number of attendees\",num_attendees)\n",
        "\n",
        "\n",
        "#the agg(\"sum\") method is used to calculate the total duration of attendance for each attendee by summing the values in the \"Duration\" column. \n",
        "attendance_duration = grouped_data[\"Duration (Minutes).1\"].agg(\"sum\")\n",
        "\n"
      ],
      "metadata": {
        "colab": {
          "base_uri": "https://localhost:8080/"
        },
        "id": "ylv62MX594yV",
        "outputId": "63376ef1-9bb9-471c-b4d2-9f767587d91c"
      },
      "execution_count": 90,
      "outputs": [
        {
          "output_type": "stream",
          "name": "stdout",
          "text": [
            "Number of attendees Name (Original Name)\n",
            "Piyush             1\n",
            "iPad               1\n",
            "piyush tembhare    1\n",
            "Name: Name (Original Name), dtype: int64\n"
          ]
        }
      ]
    },
    {
      "cell_type": "code",
      "source": [
        "#the number of attendees is assigned along with the duration\n",
        "#The resulting attendance_duration series will give you the total duration of attendance for each attendee. \n",
        "#The len() function is then used to count the number of attendees.\n",
        "num_attendees =  len(attendance_duration)\n"
      ],
      "metadata": {
        "id": "HhDV5umC-dfF"
      },
      "execution_count": 91,
      "outputs": []
    },
    {
      "cell_type": "code",
      "source": [
        "#as we have given nunique for the data of num_attendees so it consider the same name attended multiple time as one hence it display the sum of attendee\n",
        "print(\"Number of attendees:\", num_attendees)"
      ],
      "metadata": {
        "id": "wB27V_ob0rBA",
        "colab": {
          "base_uri": "https://localhost:8080/"
        },
        "outputId": "14483fbb-91a5-4b56-a138-7f68e77ff105"
      },
      "execution_count": 92,
      "outputs": [
        {
          "output_type": "stream",
          "name": "stdout",
          "text": [
            "Number of attendees: 3\n"
          ]
        }
      ]
    },
    {
      "cell_type": "code",
      "source": [
        "#as we have assigned the attenddee name to the duration the both have been displayed together as we have used \"agg\" for the sum of duration\n",
        "#it is displaying the total duration of the attendeee attended may be have attended multiple time \n",
        "print(attendance_duration)"
      ],
      "metadata": {
        "id": "9YMRmUvf1F6h",
        "colab": {
          "base_uri": "https://localhost:8080/"
        },
        "outputId": "9eec9f67-4b88-4c8a-f7bc-2558325b6ced"
      },
      "execution_count": 93,
      "outputs": [
        {
          "output_type": "stream",
          "name": "stdout",
          "text": [
            "Name (Original Name)\n",
            "Piyush             63\n",
            "iPad               55\n",
            "piyush tembhare    48\n",
            "Name: Duration (Minutes).1, dtype: int64\n"
          ]
        }
      ]
    },
    {
      "cell_type": "markdown",
      "source": [],
      "metadata": {
        "id": "EPX5Jf6DCg5o"
      }
    },
    {
      "cell_type": "markdown",
      "source": [
        "###      Plotting a Pie Chart of Attendance Duration by Attende"
      ],
      "metadata": {
        "id": "q9gJcCZnBw1W"
      }
    },
    {
      "cell_type": "code",
      "source": [
        "#importing the matplotlib library for plotting purpose\n",
        "import matplotlib.pyplot as plt"
      ],
      "metadata": {
        "id": "WwnnxR-bCAMA"
      },
      "execution_count": 94,
      "outputs": []
    },
    {
      "cell_type": "code",
      "source": [
        "attendance_duration.plot(kind=\"pie\", labels=attendance_duration.index, autopct='%1.1f%%')\n",
        "plt.axis(\"equal\")\n",
        "plt.show()"
      ],
      "metadata": {
        "colab": {
          "base_uri": "https://localhost:8080/",
          "height": 248
        },
        "id": "VLkLsafnCELW",
        "outputId": "8f96d9d0-d341-46cc-d328-847fc9055b86"
      },
      "execution_count": 95,
      "outputs": [
        {
          "output_type": "display_data",
          "data": {
            "text/plain": [
              "<Figure size 432x288 with 1 Axes>"
            ],
            "image/png": "[encoded data removed]"
          },
          "metadata": {}
        }
      ]
    },
    {
      "cell_type": "markdown",
      "source": [
        "### **The filtered data is first grouped by attendee, and the total duration of attendance for each attendee is calculated. The resulting data is then plotted using the plot() method on the Pandas series. The kind parameter is used to specify the type of plot, either a bar plot or a pie chart. The xlabel and ylabel parameters are used to specify the x and y axis labels in the bar plot, while the labels and autopct parameters are used to specify the pie slice labels and the percentage values in the pie chart. The plt.axis(\"equal\") line is used to ensure that the pie chart is displayed as a circle. The plt.show() line is used to display the plot.**"
      ],
      "metadata": {
        "id": "oOf3kW0SCUt5"
      }
    },
    {
      "cell_type": "code",
      "source": [
        "#line plot for the same data\n",
        "attendance_duration.plot(kind=\"line\", xlabel=\"Time\", ylabel=\"Cumulative Duration (seconds)\")\n",
        "plt.show()"
      ],
      "metadata": {
        "colab": {
          "base_uri": "https://localhost:8080/",
          "height": 279
        },
        "id": "-2kyzs3ECv3O",
        "outputId": "9e908749-8daf-48be-c7fe-80382b9f78ac"
      },
      "execution_count": 96,
      "outputs": [
        {
          "output_type": "display_data",
          "data": {
            "text/plain": [
              "<Figure size 432x288 with 1 Axes>"
            ],
            "image/png": "[encoded data removed]"
          },
          "metadata": {
            "needs_background": "light"
          }
        }
      ]
    },
    {
      "cell_type": "code",
      "source": [
        "pip install sweetviz\n"
      ],
      "metadata": {
        "colab": {
          "base_uri": "https://localhost:8080/"
        },
        "id": "1_fSCHM6Lsi5",
        "outputId": "f3768c2c-d673-4d5b-b4fd-79fcc450c4cc"
      },
      "execution_count": 99,
      "outputs": [
        {
          "output_type": "stream",
          "name": "stdout",
          "text": [
            "Looking in indexes: https://pypi.org/simple, https://us-python.pkg.dev/colab-wheels/public/simple/\n",
            "Collecting sweetviz\n",
            "  Downloading sweetviz-2.1.4-py3-none-any.whl (15.1 MB)\n",
            "\u001b[2K     \u001b[90m━━━━━━━━━━━━━━━━━━━━━━━━━━━━━━━━━━━━━━━━\u001b[0m \u001b[32m15.1/15.1 MB\u001b[0m \u001b[31m42.9 MB/s\u001b[0m eta \u001b[36m0:00:00\u001b[0m\n",
            "\u001b[?25hRequirement already satisfied: scipy>=1.3.2 in /usr/local/lib/python3.8/dist-packages (from sweetviz) (1.7.3)\n",
            "Requirement already satisfied: importlib-resources>=1.2.0 in /usr/local/lib/python3.8/dist-packages (from sweetviz) (5.10.2)\n",
            "Requirement already satisfied: numpy>=1.16.0 in /usr/local/lib/python3.8/dist-packages (from sweetviz) (1.21.6)\n",
            "Requirement already satisfied: jinja2>=2.11.1 in /usr/local/lib/python3.8/dist-packages (from sweetviz) (2.11.3)\n",
            "Requirement already satisfied: tqdm>=4.43.0 in /usr/local/lib/python3.8/dist-packages (from sweetviz) (4.64.1)\n",
            "Requirement already satisfied: pandas!=1.0.0,!=1.0.1,!=1.0.2,>=0.25.3 in /usr/local/lib/python3.8/dist-packages (from sweetviz) (1.3.5)\n",
            "Requirement already satisfied: matplotlib>=3.1.3 in /usr/local/lib/python3.8/dist-packages (from sweetviz) (3.2.2)\n",
            "Requirement already satisfied: zipp>=3.1.0 in /usr/local/lib/python3.8/dist-packages (from importlib-resources>=1.2.0->sweetviz) (3.12.0)\n",
            "Requirement already satisfied: MarkupSafe>=0.23 in /usr/local/lib/python3.8/dist-packages (from jinja2>=2.11.1->sweetviz) (2.0.1)\n",
            "Requirement already satisfied: kiwisolver>=1.0.1 in /usr/local/lib/python3.8/dist-packages (from matplotlib>=3.1.3->sweetviz) (1.4.4)\n",
            "Requirement already satisfied: python-dateutil>=2.1 in /usr/local/lib/python3.8/dist-packages (from matplotlib>=3.1.3->sweetviz) (2.8.2)\n",
            "Requirement already satisfied: pyparsing!=2.0.4,!=2.1.2,!=2.1.6,>=2.0.1 in /usr/local/lib/python3.8/dist-packages (from matplotlib>=3.1.3->sweetviz) (3.0.9)\n",
            "Requirement already satisfied: cycler>=0.10 in /usr/local/lib/python3.8/dist-packages (from matplotlib>=3.1.3->sweetviz) (0.11.0)\n",
            "Requirement already satisfied: pytz>=2017.3 in /usr/local/lib/python3.8/dist-packages (from pandas!=1.0.0,!=1.0.1,!=1.0.2,>=0.25.3->sweetviz) (2022.7.1)\n",
            "Requirement already satisfied: six>=1.5 in /usr/local/lib/python3.8/dist-packages (from python-dateutil>=2.1->matplotlib>=3.1.3->sweetviz) (1.15.0)\n",
            "Installing collected packages: sweetviz\n",
            "Successfully installed sweetviz-2.1.4\n"
          ]
        }
      ]
    },
    {
      "cell_type": "code",
      "source": [
        "import sweetviz as sv\n",
        "import pandas as pd\n",
        "\n",
        "# Create a Sweetviz report\n",
        "report = sv.analyze(df)\n",
        "\n",
        "# Visualize the report\n",
        "report.show_html(\"Report.html\")\n"
      ],
      "metadata": {
        "colab": {
          "base_uri": "https://localhost:8080/",
          "height": 86,
          "referenced_widgets": [
            "e9b7dd1f1fbc40f4b1b84c58606ab376",
            "314048d363e84c989fdc0c5e491cbdd8",
            "e4472000b9c145909beca809a06ee0b8",
            "473ea65ca06740cf8c6904cd01bd29cd",
            "c4b74db2594844ad8678b35ae6c30e5f",
            "666a630efa974812a2d9d6d7691ed156",
            "cdfa464dcfe64f0190c138e712b6df98",
            "d28050c9eb654bf4a99e7f2fe1536539",
            "bff36e99bcdb45d380669d0dcdb13252",
            "6bc2e43d07684440bd7f40addbd55ccf",
            "bc14a105db854868b15aa0913d4f1669"
          ]
        },
        "id": "UBQH0xTRLBOZ",
        "outputId": "315e9eeb-dd15-4760-87e3-ca0681a19786"
      },
      "execution_count": 100,
      "outputs": [
        {
          "output_type": "display_data",
          "data": {
            "text/plain": [
              "                                             |          | [  0%]   00:00 -> (? left)"
            ],
            "application/vnd.jupyter.widget-view+json": {
              "version_major": 2,
              "version_minor": 0,
              "model_id": "e9b7dd1f1fbc40f4b1b84c58606ab376"
            }
          },
          "metadata": {}
        },
        {
          "output_type": "stream",
          "name": "stdout",
          "text": [
            "Report Report.html was generated! NOTEBOOK/COLAB USERS: the web browser MAY not pop up, regardless, the report IS saved in your notebook/colab files.\n"
          ]
        }
      ]
    },
    {
      "cell_type": "code",
      "source": [
        "from IPython.display import IFrame\n",
        "IFrame(src=\"Report.html\", width=1000, height=500)"
      ],
      "metadata": {
        "colab": {
          "base_uri": "https://localhost:8080/",
          "height": 522
        },
        "id": "PRNiWstGL50W",
        "outputId": "0243e874-eb2f-4a16-8448-40ad3086e28d"
      },
      "execution_count": 105,
      "outputs": [
        {
          "output_type": "execute_result",
          "data": {
            "text/plain": [
              "<IPython.lib.display.IFrame at 0x7f5e838cc8b0>"
            ],
            "text/html": [
              "\n",
              "        <iframe\n",
              "            width=\"1000\"\n",
              "            height=\"500\"\n",
              "            src=\"Report.html\"\n",
              "            frameborder=\"0\"\n",
              "            allowfullscreen\n",
              "        ></iframe>\n",
              "        "
            ]
          },
          "metadata": {},
          "execution_count": 105
        }
      ]
    },
    {
      "cell_type": "code",
      "source": [],
      "metadata": {
        "id": "LzIBlfztMNdR"
      },
      "execution_count": null,
      "outputs": []
    }
  ]
}